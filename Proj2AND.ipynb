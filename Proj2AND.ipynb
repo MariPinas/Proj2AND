{
  "nbformat": 4,
  "nbformat_minor": 0,
  "metadata": {
    "colab": {
      "provenance": []
    },
    "kernelspec": {
      "name": "python3",
      "display_name": "Python 3"
    },
    "language_info": {
      "name": "python"
    }
  },
  "cells": [
    {
      "cell_type": "markdown",
      "source": [
        "# Trabalho II\n"
      ],
      "metadata": {
        "id": "L6kZPEXTUyRy"
      }
    },
    {
      "cell_type": "code",
      "execution_count": null,
      "metadata": {
        "id": "d6vI6qRoUuk6"
      },
      "outputs": [],
      "source": []
    }
  ]
}